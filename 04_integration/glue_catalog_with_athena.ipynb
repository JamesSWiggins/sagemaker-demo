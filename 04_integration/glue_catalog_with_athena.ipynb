{
 "cells": [
  {
   "cell_type": "markdown",
   "metadata": {},
   "source": [
    "Integrate with Data & Analytcs services in AWS¶\n",
    "====================\n",
    "\n",
    "As Data Lakes are becoming more popular and democratizing data is becoming the new normal we want to be able to get the raw data from the Data Lake into the hands of Data Scientists.\n",
    "\n",
    "To do this we need the ability to integrate with common scm tools as well as discover data in the data lake. To do this we will be using AWS Glue and Athena to discover the data that can then be used in training models in SageMaker.\n",
    "\n",
    "Set up the environment get acces to the Python boto3 library and get a reference to the AWS Glue Service."
   ]
  },
  {
   "cell_type": "code",
   "execution_count": null,
   "metadata": {},
   "outputs": [],
   "source": [
    "import boto3\n",
    "\n",
    "client = boto3.client('glue')"
   ]
  },
  {
   "cell_type": "markdown",
   "metadata": {},
   "source": [
    "With boto3 we can use the get_tables call to get a json response of the tables in the taxidb in the AWS Glue Data Catalog."
   ]
  },
  {
   "cell_type": "code",
   "execution_count": null,
   "metadata": {},
   "outputs": [],
   "source": [
    "response = client.get_tables(\n",
    "    DatabaseName='<<GlueDatabaseName>>',\n",
    ")\n",
    "\n",
    "response"
   ]
  },
  {
   "cell_type": "markdown",
   "metadata": {},
   "source": [
    "To get a better view of just the tables and their location in S3 we can get just the table list and location."
   ]
  },
  {
   "cell_type": "code",
   "execution_count": null,
   "metadata": {},
   "outputs": [],
   "source": [
    "print(\"table_name\\tlocation\")\n",
    "for table in response.get('TableList'):\n",
    "    print(table.get('Name') + '\\t\\t' + table.get('StorageDescriptor').get('Location') )"
   ]
  },
  {
   "cell_type": "markdown",
   "metadata": {},
   "source": [
    "Finally we can get the table metadata including the columns in the AWS Glue Data Catalog for the 'yellow' table in the 'taxidb'."
   ]
  },
  {
   "cell_type": "code",
   "execution_count": null,
   "metadata": {},
   "outputs": [],
   "source": [
    "response = client.get_table(\n",
    "    DatabaseName='<<GlueDatabaseName>>',\n",
    "    Name='yellow'\n",
    ")\n",
    "\n",
    "response"
   ]
  },
  {
   "cell_type": "markdown",
   "metadata": {},
   "source": [
    "We installed the pyathena library in our custom environment and can now query the AWS Glue Data Catalog using Athena."
   ]
  },
  {
   "cell_type": "code",
   "execution_count": null,
   "metadata": {},
   "outputs": [],
   "source": [
    "from pyathena import connect\n",
    "from pyathena.util import as_pandas\n",
    "\n",
    "cursor = connect(region_name='<<Region>>', s3_staging_dir='<<Staging Dir>>').cursor()\n",
    "\n",
    "cursor.execute('select pickup_latitude, pickup_longitude, total_amount, trip_distance from taxidb.yellow limit 10')\n",
    "\n",
    "df = as_pandas(cursor)\n",
    "df.head(10)"
   ]
  },
  {
   "cell_type": "code",
   "execution_count": null,
   "metadata": {},
   "outputs": [],
   "source": []
  }
 ],
 "metadata": {
  "kernelspec": {
   "display_name": "conda_mlworkshop",
   "language": "python",
   "name": "conda_mlworkshop"
  },
  "language_info": {
   "codemirror_mode": {
    "name": "ipython",
    "version": 3
   },
   "file_extension": ".py",
   "mimetype": "text/x-python",
   "name": "python",
   "nbconvert_exporter": "python",
   "pygments_lexer": "ipython3",
   "version": "3.6.6"
  }
 },
 "nbformat": 4,
 "nbformat_minor": 2
}
