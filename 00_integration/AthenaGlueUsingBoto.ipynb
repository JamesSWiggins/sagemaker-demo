{
 "cells": [
  {
   "cell_type": "code",
   "execution_count": null,
   "metadata": {},
   "outputs": [],
   "source": [
    "import boto3\n",
    "\n",
    "client = boto3.client('glue')\n",
    "\n",
    "response = client.get_tables(\n",
    "    DatabaseName='default',\n",
    ")\n",
    "\n",
    "for table in response.get('TableList'):\n",
    "    print(table.get('Name') + '\\t' + table.get('StorageDescriptor').get('Location') )\n",
    "    \n",
    "    for column in table.get('StorageDescriptor').get('Columns'):\n",
    "        print(column.get('Name') + '\\t' + column.get('Type'))"
   ]
  },
  {
   "cell_type": "code",
   "execution_count": null,
   "metadata": {},
   "outputs": [],
   "source": [
    "from pyathena import connect\n",
    "from pyathena.util import as_pandas\n",
    "\n",
    "cursor = connect(region_name='<REGION>', s3_staging_dir='<ATHENA_STAGING>').cursor()\n",
    "\n",
    "cursor.execute('select * from default.taxidatayellow limit 10')\n",
    "\n",
    "df = as_pandas(cursor)\n",
    "print(df.describe())"
   ]
  },
  {
   "cell_type": "code",
   "execution_count": null,
   "metadata": {},
   "outputs": [],
   "source": []
  }
 ],
 "metadata": {
  "kernelspec": {
   "display_name": "conda_mlworkshop",
   "language": "python",
   "name": "conda_mlworkshop"
  },
  "language_info": {
   "codemirror_mode": {
    "name": "ipython",
    "version": 3
   },
   "file_extension": ".py",
   "mimetype": "text/x-python",
   "name": "python",
   "nbconvert_exporter": "python",
   "pygments_lexer": "ipython3",
   "version": "3.6.4"
  }
 },
 "nbformat": 4,
 "nbformat_minor": 2
}
